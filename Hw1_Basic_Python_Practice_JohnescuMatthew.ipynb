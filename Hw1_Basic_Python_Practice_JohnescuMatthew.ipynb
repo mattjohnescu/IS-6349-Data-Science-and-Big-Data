{
 "cells": [
  {
   "cell_type": "markdown",
   "metadata": {},
   "source": [
    "# Homework 1: Python Basics"
   ]
  },
  {
   "cell_type": "markdown",
   "metadata": {},
   "source": [
    "## Task 0 (0.5 point)\n",
    "### Completed by:  ***Matthew Johnescu***"
   ]
  },
  {
   "cell_type": "markdown",
   "metadata": {},
   "source": [
    "## GENERAL INSTRUCTIONS:\n",
    "\n",
    "In this exercise, we will complete tasks to help you get more practice with writing code using standard Python. Please answer the questions for each task below. Some tasks have multiple questions - please be sure to answer all. \n",
    "\n",
    "You may write all answers in one cell or in separate cells. Use **comments** to annotate different answers (copy paste my comment if you like) so it is clear which code is answering which question. \n",
    "\n",
    "If you need to produce multiple outputs from one cell, you can do so by adding **print()** to each outout you want to produce. Without print only the last output will show. \n",
    "\n",
    "***YOU WILL NOT GET POINTS FOR OUTPUTS THAT ARE NOT VISIBLE.***\n",
    "\n",
    "I also use exercises as a way to teach new material. Some questions introduce you to new functions and ask you to use them.\n",
    "\n",
    "Finally, please submit your notebook named: **Hw1_LastNameFirstName.ipynb**\n"
   ]
  },
  {
   "cell_type": "markdown",
   "metadata": {},
   "source": [
    "## Task 1. (2 points)\n",
    "\n",
    "**What is the type of the following variables - a , b, and e? Please use a built-in function to obtain the answer.**\n",
    "\n",
    "**What is the result of testing f?  Write down your explanation in a comment in the answer cell.** "
   ]
  },
  {
   "cell_type": "code",
   "execution_count": 1,
   "metadata": {},
   "outputs": [],
   "source": [
    "a = 'Alayna'"
   ]
  },
  {
   "cell_type": "code",
   "execution_count": 2,
   "metadata": {},
   "outputs": [],
   "source": [
    "b = \"True\""
   ]
  },
  {
   "cell_type": "code",
   "execution_count": 3,
   "metadata": {},
   "outputs": [],
   "source": [
    "c = 10.5; d = 2\n",
    "e = c / d"
   ]
  },
  {
   "cell_type": "code",
   "execution_count": 44,
   "metadata": {},
   "outputs": [
    {
     "data": {
      "text/plain": [
       "False"
      ]
     },
     "execution_count": 44,
     "metadata": {},
     "output_type": "execute_result"
    }
   ],
   "source": [
    "f = 'True'\n",
    "\n",
    "#Finding Variable Types\n",
    "# For a\n",
    "type(a)\n",
    "\n",
    "# For b\n",
    "type(b)\n",
    "\n",
    "#For c\n",
    "type(c)\n",
    "\n",
    "#For e\n",
    "type(e)\n",
    "\n",
    "#For f\n",
    "type(f)\n",
    "\n",
    "\n",
    "# Write code below to test whether whether f is the same as boolean True. \n",
    "f is True\n",
    "\n",
    "#Explanation\n",
    "#f is true returned 'False' so f is not a boolean true object, but rather just a str() variable that says 'True'. \n",
    "\n"
   ]
  },
  {
   "cell_type": "markdown",
   "metadata": {},
   "source": [
    "## Task 2. (1 point)\n",
    "\n",
    "**Compute: 5 raised to the power of 6, added to 100, and the resulting sum divided by 5 ?**\n",
    "\n",
    "Pay attention to order of operations."
   ]
  },
  {
   "cell_type": "code",
   "execution_count": 2,
   "metadata": {},
   "outputs": [
    {
     "name": "stdout",
     "output_type": "stream",
     "text": [
      "3145.0\n"
     ]
    }
   ],
   "source": [
    "# Provide your answer in the following cell.\n",
    "# Compute 5 raised to the power of 6\n",
    "power_result = 5 ** 6\n",
    "\n",
    "# Add 100 to the power result\n",
    "sum_result = power_result + 100\n",
    "\n",
    "# Divide the sum result by 5\n",
    "final_result = sum_result / 5\n",
    "\n",
    "# Print the final result\n",
    "print(final_result)\n"
   ]
  },
  {
   "cell_type": "markdown",
   "metadata": {},
   "source": [
    "## Task 3. (1.5 points)\n",
    "\n",
    "**Ask user for a number, and print its cube**\n",
    "\n",
    "For this you can use a built-in function called **input()**. It has one parameter which it prints to the console, and awaits an input from the user, i.e. wait till user enters something and hits enter. So the argumnet to input() should be whatever you want to print out to prompt the user to enter something. This input from the user is always read in as a string.\n",
    "\n",
    "Your code must allow the user to enter integers or decimals. Then compute and print the cube of the int or float. \n",
    "\n",
    "No need to do any error-checking for non-numeric inputs.\n",
    "\n",
    "The output should be: `The cube of x is y` with x and y replaced with values.\\\n",
    "where x is the number the user input and y is its cube"
   ]
  },
  {
   "cell_type": "code",
   "execution_count": 1,
   "metadata": {
    "scrolled": true
   },
   "outputs": [
    {
     "name": "stdin",
     "output_type": "stream",
     "text": [
      "Enter a number for me to cube:  4\n"
     ]
    },
    {
     "name": "stdout",
     "output_type": "stream",
     "text": [
      "The cube of 4.0 is 64.0\n"
     ]
    }
   ],
   "source": [
    "# Asking the user to input a number\n",
    "user_input = input(\"Enter a number for me to cube: \")\n",
    "\n",
    "# Converting the string input to a float to handle both integers and decimals\n",
    "number = float(user_input)\n",
    "\n",
    "# Calculating the cube of the entered number\n",
    "cube = number ** 3\n",
    "\n",
    "# Printing the result in the format: \"The cube of x is y\"\n",
    "print(f\"The cube of {number} is {cube}\")\n"
   ]
  },
  {
   "cell_type": "markdown",
   "metadata": {},
   "source": [
    "## Task 4. (3 points)"
   ]
  },
  {
   "cell_type": "markdown",
   "metadata": {},
   "source": [
    "**Create a <u>function</u> that has *two parameters* - and *returns* the count of the number of times the second parameter (a substring) occurs in the first parameter (a sentence).  Capitalization is important, so dog only matches dog but not DOg or doG. You may use built-in str methods.**\n",
    "\n",
    "**Call the function twice with the same first argument and a different second argument. The answer should not be printed in the function but returned.**\n",
    "\n",
    "Write your answer in the cells below.\n",
    "\n",
    "Note: you can use separate cells for each answer. If you want to print out multiple outputs from one cell, you have to use print() statements in order for the output to be visible."
   ]
  },
  {
   "cell_type": "code",
   "execution_count": 1,
   "metadata": {},
   "outputs": [
    {
     "name": "stdout",
     "output_type": "stream",
     "text": [
      "1\n",
      "0\n"
     ]
    }
   ],
   "source": [
    "# define the function\n",
    "def count_substring(sentence, substring):\n",
    "    return sentence.count(substring)\n",
    "\n",
    "# call the function with the same first argument and different second arguments\n",
    "result1 = count_substring(\"The quick brown fox jumps over the lazy dog.\", \"dog\")\n",
    "result2 = count_substring(\"The quick brown fox jumps over the lazy dog.\", \"Fox\")\n",
    "\n",
    "# print the results\n",
    "print(result1)  # Expected output: 1\n",
    "print(result2)  # Expected output: 0\n",
    "\n",
    "\n"
   ]
  },
  {
   "cell_type": "markdown",
   "metadata": {},
   "source": [
    "## Task 5. (4 points)"
   ]
  },
  {
   "cell_type": "markdown",
   "metadata": {},
   "source": [
    "**Create a <u>function</u> that has *two parameters* - the first is a string to search and the second is the substring to find in the first string. This function *returns* True if the second string is contained in the first string, irrespective of case and capitalization, and False otherwise. You may use built-in str methods.** \n",
    "\n",
    "***ignore* any case and capitalization in the word searched for AND the string searched in (which means searching for DoG or dog should match DOG or dOg or dog etc.)**\n",
    "\n",
    "**Call the function thrice with the same first argument and different second argument. The answer should not be printed in the function but returned.**\n",
    "\n",
    "Write your answer in the cell below. \n",
    "Note: you can use separate cells for each answer. If you want to print out multiple outputs from one cell, you have to use print() statements in order for the output to be visible."
   ]
  },
  {
   "cell_type": "code",
   "execution_count": 4,
   "metadata": {},
   "outputs": [
    {
     "name": "stdout",
     "output_type": "stream",
     "text": [
      "True\n",
      "True\n",
      "False\n"
     ]
    }
   ],
   "source": [
    "# write the function here\n",
    "def contains_substring(sentence, substring):\n",
    "    return substring.lower() in sentence.lower()\n",
    "\n",
    "# call the function with arguments \"Is Data Science a Science?\" and \"science\" and print its answer\n",
    "result1 = contains_substring(\"Is Data Science a Science?\", \"science\")\n",
    "print(result1)\n",
    "\n",
    "# call the function with arguments \"Is Data Science a Science?\" and \"SCIENCE\"\n",
    "result2 = contains_substring(\"Is Data Science a Science?\", \"SCIENCE\")\n",
    "print(result2)\n",
    "\n",
    "# call the function with arguments \"Is Data Science a Science?\" and \"Scientist\"\n",
    "result3 = contains_substring(\"Is Data Science a Science?\", \"Scientist\")\n",
    "print(result3)\n",
    "\n",
    "\n"
   ]
  },
  {
   "cell_type": "markdown",
   "metadata": {},
   "source": [
    "## Task 6. (1.5 points)"
   ]
  },
  {
   "cell_type": "markdown",
   "metadata": {},
   "source": [
    "**Split this string and produce a list of two substrings both in upper case:**\n",
    "\n",
    "    \"It's a great day today, isn't it?\"\n",
    "\n",
    "Write code - use a string method -  in the cells below to print the list [\"IT'S A GREAT DAY TODAY\", \" ISN'T IT?\"] as output from the input string"
   ]
  },
  {
   "cell_type": "code",
   "execution_count": 5,
   "metadata": {},
   "outputs": [
    {
     "name": "stdout",
     "output_type": "stream",
     "text": [
      "[\"IT'S A GREAT DAY TODAY\", \" ISN'T IT?\"]\n"
     ]
    }
   ],
   "source": [
    "# define the string and obtain the new list\n",
    "# Input string\n",
    "input_string = \"It's a great day today, isn't it?\"\n",
    "\n",
    "# Split the string into two substrings\n",
    "substrings = input_string.split(\",\", 1)\n",
    "\n",
    "# Convert both substrings to upper case\n",
    "substrings_upper = [substring.upper() for substring in substrings]\n",
    "\n",
    "# Print the result\n",
    "print(substrings_upper)\n",
    "\n"
   ]
  },
  {
   "cell_type": "markdown",
   "metadata": {
    "collapsed": true,
    "jupyter": {
     "outputs_hidden": true
    }
   },
   "source": [
    "## Task 7. ( 3 points)"
   ]
  },
  {
   "cell_type": "markdown",
   "metadata": {},
   "source": [
    "**Create a *function* that accepts a string argument in the form of an email address, and *returns* the username and type of email domain extracted from the input.**\n",
    "\n",
    "Say the input is:\n",
    "\n",
    "    user@eccles.utah.edu\n",
    "    \n",
    "**Function would create and return the following string (note the single quotes in the output), which is then printed outside the function:**\n",
    "\n",
    "    Username is 'user' and domain type is 'edu'\n",
    "\n",
    "When the input is 'user@gmail.com' the function would return 'user' as username and 'com' as domain.\\\n",
    "See the cell below for how to embed values of variables in output"
   ]
  },
  {
   "cell_type": "code",
   "execution_count": 12,
   "metadata": {},
   "outputs": [
    {
     "name": "stdin",
     "output_type": "stream",
     "text": [
      "Enter an email address:  johnescum@gmail.com\n"
     ]
    },
    {
     "name": "stdout",
     "output_type": "stream",
     "text": [
      "Username is 'johnescum' and domain type is 'com'\n"
     ]
    }
   ],
   "source": [
    "#Write your answer here. Use any approach to print.\n",
    "\n",
    "# define the function here\n",
    "def extract_email_details(email):\n",
    "    username, domain_full = email.split('@')\n",
    "    domain_type = domain_full.split('.')[-1]\n",
    "    return \"Username is '{}' and domain type is '{}'\".format(username, domain_type)\n",
    "\n",
    "# prompt the user for an email input and print the value returned\n",
    "email_input = input(\"Enter an email address: \")\n",
    "result = extract_email_details(email_input)\n",
    "print(result)\n",
    "\n",
    "\n"
   ]
  },
  {
   "cell_type": "markdown",
   "metadata": {},
   "source": [
    "## Task 8. (1 point)"
   ]
  },
  {
   "cell_type": "markdown",
   "metadata": {},
   "source": [
    "**Given this nested list**\n",
    "\n",
    "    [20.7,-10,[5,7,8],[100.5,[True,True,['hello']],True,False],1,7]\n",
    "\n",
    "**use indexing to grab the word \"hello\" (as a string)**\n",
    "\n",
    "Write your answer in the cells below."
   ]
  },
  {
   "cell_type": "code",
   "execution_count": 13,
   "metadata": {},
   "outputs": [
    {
     "name": "stdout",
     "output_type": "stream",
     "text": [
      "hello\n"
     ]
    }
   ],
   "source": [
    "# define the list here\n",
    "nested_list = [20.7, -10, [5, 7, 8], [100.5, [True, True, ['hello']], True, False], 1, 7]\n",
    "\n",
    "# obtain and print just the word hello\n",
    "word_hello = nested_list[3][1][2][0]\n",
    "print(word_hello)\n",
    "\n"
   ]
  },
  {
   "cell_type": "markdown",
   "metadata": {},
   "source": [
    "## Task 9. (2.5 points)"
   ]
  },
  {
   "cell_type": "markdown",
   "metadata": {},
   "source": [
    "**Given this nested dictionary**\n",
    "\n",
    "    {'id':[1,2,3,[4,5,6]], 'name': ('five','six','seven','eight'), 'age': 10}\n",
    "\n",
    "**How many items or elements are in this dict? Use a command to determine this.**\n",
    "\n",
    "**Print the keys of the dict.**\n",
    "\n",
    "**Obtain the word \"eight\" from the dict.**\n",
    "\n",
    "Write your answer in the cells below.\n",
    "Note: you can use separate cells for each answer. If you want to print out multiple outputs from one cell, you have to use print() statements in order for the output to be visible."
   ]
  },
  {
   "cell_type": "code",
   "execution_count": 14,
   "metadata": {},
   "outputs": [
    {
     "name": "stdout",
     "output_type": "stream",
     "text": [
      "Number of elements in the dictionary: 3\n",
      "Keys of the dictionary: dict_keys(['id', 'name', 'age'])\n",
      "Word 'eight' from the dictionary: eight\n"
     ]
    }
   ],
   "source": [
    "# define the dict here\n",
    "nested_dict = {'id': [1, 2, 3, [4, 5, 6]], 'name': ('five', 'six', 'seven', 'eight'), 'age': 10}\n",
    "\n",
    "# how many elements in this dict?\n",
    "num_elements = len(nested_dict)\n",
    "print(\"Number of elements in the dictionary:\", num_elements)\n",
    "\n",
    "# obtain the keys of the dict\n",
    "dict_keys = nested_dict.keys()\n",
    "print(\"Keys of the dictionary:\", dict_keys)\n",
    "\n",
    "# obtain the word \"eight\" from the dict\n",
    "word_eight = nested_dict['name'][3]\n",
    "print(\"Word 'eight' from the dictionary:\", word_eight)\n",
    "\n",
    "\n"
   ]
  },
  {
   "cell_type": "markdown",
   "metadata": {},
   "source": [
    "## Task 10. (2 points)\n",
    "\n",
    "Explain what is happening in the below code. Please provide your answer to what is happening in a new cell below as a comment.\n",
    "\n",
    "To stop the code, you will need to hit square block button in the menu above to interrupt the kernel.\n",
    "\n",
    "Change the code so that the loop will end when the value of i is 1, but only after printing the value 1.0\\\n",
    "Expected output is:\n",
    "\n",
    "10.0\\\n",
    "5.0\\\n",
    "6.0\\\n",
    "3.0\\\n",
    "4.0\\\n",
    "2.0\\\n",
    "1.0\n"
   ]
  },
  {
   "cell_type": "raw",
   "metadata": {},
   "source": [
    "i=10\n",
    "\n",
    "#while i>0:\n",
    "#    print(float(i))\n",
    "#    if i%2==0:\n",
    "#        i = i /2\n",
    "#    else:i = i + 1\n"
   ]
  },
  {
   "cell_type": "code",
   "execution_count": 16,
   "metadata": {},
   "outputs": [
    {
     "name": "stdout",
     "output_type": "stream",
     "text": [
      "10.0\n",
      "5.0\n",
      "6.0\n",
      "3.0\n",
      "4.0\n",
      "2.0\n",
      "1.0\n"
     ]
    }
   ],
   "source": [
    "# write your code that fixes the probem in the above loop\n",
    "i = 10\n",
    "\n",
    "while i > 0:\n",
    "    print(float(i))\n",
    "    if i == 1:\n",
    "        break\n",
    "    if i % 2 == 0:\n",
    "        i = i / 2\n",
    "    else:\n",
    "        i = i + 1"
   ]
  },
  {
   "cell_type": "markdown",
   "metadata": {},
   "source": [
    "## Task 11. (3 points)\n",
    "\n",
    "**You are driving a little too fast, and a police officer stops you. Write a function to determine what type of ticket you will get.**\n",
    "\n",
    "**This function has two parameters - X and is_birthday. X is the speed in mph and is_birthday is a boolean. Function has no return value, and prints the output in the function itself.**\n",
    "\n",
    "If your speed is 60 or less, the result is \"No Fine\". If speed is between 61 and 80 inclusive, the result is \"Small Fine\". If speed is 81 or more, the result is \"Large Fine\". Unless it is your birthday -- on your birthday, your speed can be 5 higher in all cases.\n",
    "\n",
    "<u>The function prints one of 6 possible results:</u>\n",
    "\n",
    "**If it is not the driver's birthday and their speed was X**\\\n",
    "\"your speed was Xmph, you will get: No Fine\" (if speed is 60 or less)\\\n",
    "\"your speed was Xmph, you will get: Small Fine\" (if speed is between 61 and 80 inclusive)\\\n",
    "\"your speed was Xmph, you will get: Large Fine\" (if speed is 81 or more)\n",
    "\n",
    "**If it is the driver's birthday and their speed was X**\\\n",
    "\"Happy birthday, your speed was Xmph, you will get: No Fine\" (if speed is 65 or less)\\\n",
    "\"Happy birthday, your speed was Xmph, you will get: Small Fine\" (if speed is between 66 and 85 inclusive)\\\n",
    "\"Happy birthday, your speed was Xmph, you will get: Large Fine\" (if speed is 86 or more)\n",
    "\n",
    "Write your answer below\n"
   ]
  },
  {
   "cell_type": "code",
   "execution_count": 20,
   "metadata": {},
   "outputs": [
    {
     "name": "stdin",
     "output_type": "stream",
     "text": [
      "Enter the speed in mph:  88\n",
      "Is it your birthday? (yes/no):  yes\n"
     ]
    },
    {
     "name": "stdout",
     "output_type": "stream",
     "text": [
      "Happy birthday, your speed was 88mph, you will get: Large Fine\n"
     ]
    }
   ],
   "source": [
    "# define the function\n",
    "def ticket_type():\n",
    "    X = int(input(\"Enter the speed in mph: \"))\n",
    "    is_birthday = input(\"Is it your birthday? (yes/no): \").strip().lower() == \"yes\"\n",
    "    \n",
    "    if is_birthday:\n",
    "        if X <= 65:\n",
    "            print(f\"Happy birthday, your speed was {X}mph, you will get: No Fine\")\n",
    "        elif 66 <= X <= 85:\n",
    "            print(f\"Happy birthday, your speed was {X}mph, you will get: Small Fine\")\n",
    "        else:\n",
    "            print(f\"Happy birthday, your speed was {X}mph, you will get: Large Fine\")\n",
    "    else:\n",
    "        if X <= 60:\n",
    "            print(f\"Your speed was {X}mph, you will get: No Fine\")\n",
    "        elif 61 <= X <= 80:\n",
    "            print(f\"Your speed was {X}mph, you will get: Small Fine\")\n",
    "        else:\n",
    "            print(f\"Your speed was {X}mph, you will get: Large Fine\")\n",
    "\n",
    "# call the function to receive user input and determine the ticket type\n",
    "ticket_type()\n"
   ]
  },
  {
   "cell_type": "markdown",
   "metadata": {},
   "source": [
    "## OPTIONAL TASK"
   ]
  },
  {
   "cell_type": "markdown",
   "metadata": {},
   "source": [
    "**In this task, you will use two useful built-in functions called map() and filter() to transform some data and then filter out only some items from that list that match some criterion.**\n",
    "\n",
    "**Given the below list of animal words :**\n",
    "\n",
    "    ['dog   ','    cat','rabbit   ','    duck','hamster', ' elephant ']\n",
    "\n",
    "**write code to take the above list and process it to print the following output of only animals ending with 't'.**\n",
    "\n",
    "    [(0,'elephant'),(1,'rabbit'), (2,'cat')]\n",
    "    \n",
    "**STEPS**\n",
    "- first remove all  whitespaces before and after each word using **map()**, convert the output to a list, and save as a new var\n",
    "- then keep only the words that end in 't' by applying **filter()** on the output from previous step, and again convert the output to another list, and save in another var\n",
    "- then sort in reverse order of length using **sorted()** the output list from previous step\n",
    "- create an enumeration using **enumerate()**, applied to  the output list from previous step"
   ]
  },
  {
   "cell_type": "code",
   "execution_count": 2,
   "metadata": {},
   "outputs": [],
   "source": [
    "# learn to use two new functions - map and filter that make use of lambda function/\n",
    "\n",
    "# Recall that lambda functions are used when we want to perform a quick task and \n",
    "# dont want to reuse that function again, so we create an anonymous function on the fly\n",
    "# lambda is defined as below\n",
    "     # lambda input(s) : expression(inputs)\n",
    "\n",
    "# MAP\n",
    "# The map() function is used to apply the same calculation on every element in a sequence\n",
    "# it is defined as below\n",
    "     # map (functionname, seq)\n",
    "         # where seq is a sequence\n",
    "         # functionname will be applied to each element in seq \n",
    "         # functionname can be a lambda function \n",
    "\n",
    "    # the map function does not return a sequence, rather it returns a map object\n",
    "    # you can call the list() method and give it a map object as an argument to create a list from the map object\n",
    "    # list(mapobject) produces a list\n",
    "\n",
    "#FILTER\n",
    "# The filter() function is used to filter a sequence seq using the functionname provided\n",
    "# i.e. it will only keep those values from the sequence where the functionname returns True \n",
    "# it is defined as below\n",
    "    # filter(functionname, seq)\n",
    "        # where seq is a sequence \n",
    "        # functionname can be a lambda function\n",
    "    \n",
    "    # the filter function does not return a sequence, rather it returns a filter object\n",
    "    # you can call the list() method and give it a filter object as an argument to create a list from the filter object\n",
    "    # list(filterobject) produces a list\n",
    "\n",
    "# we will see map and filter in other data science libraries, esp in Pandas."
   ]
  },
  {
   "cell_type": "code",
   "execution_count": 28,
   "metadata": {},
   "outputs": [],
   "source": [
    "# define the sequence of animal words, as given above, here.\n",
    "\n",
    "\n",
    "# use map() to remove whitespace chars - use a lambda function for functionname, which then uses str.strip()\n",
    "# convert output from map() into a list\n",
    "\n",
    "\n",
    "# Use the list output from map() above, produce a filtered list where you only keep the stripped words that end in 't'. \n",
    "# USe a lambda function for functionname and write an expression that will checking whether the last letter is equal to 't'\n",
    "# so it will return True if last letter is 't'\n",
    "# convert output from filter() into a list\n",
    "\n",
    "# apply sorted() and enumerate() to get the final output"
   ]
  },
  {
   "cell_type": "markdown",
   "metadata": {},
   "source": [
    "# The end"
   ]
  }
 ],
 "metadata": {
  "kernelspec": {
   "display_name": "Python 3 (ipykernel)",
   "language": "python",
   "name": "python3"
  },
  "language_info": {
   "codemirror_mode": {
    "name": "ipython",
    "version": 3
   },
   "file_extension": ".py",
   "mimetype": "text/x-python",
   "name": "python",
   "nbconvert_exporter": "python",
   "pygments_lexer": "ipython3",
   "version": "3.11.7"
  },
  "toc": {
   "base_numbering": 1,
   "nav_menu": {},
   "number_sections": false,
   "sideBar": true,
   "skip_h1_title": false,
   "title_cell": "Table of Contents",
   "title_sidebar": "Table of Contents",
   "toc_cell": false,
   "toc_position": {
    "height": "525.467px",
    "left": "34px",
    "top": "202.333px",
    "width": "165px"
   },
   "toc_section_display": true,
   "toc_window_display": true
  },
  "varInspector": {
   "cols": {
    "lenName": 16,
    "lenType": 16,
    "lenVar": 40
   },
   "kernels_config": {
    "python": {
     "delete_cmd_postfix": "",
     "delete_cmd_prefix": "del ",
     "library": "var_list.py",
     "varRefreshCmd": "print(var_dic_list())"
    },
    "r": {
     "delete_cmd_postfix": ") ",
     "delete_cmd_prefix": "rm(",
     "library": "var_list.r",
     "varRefreshCmd": "cat(var_dic_list()) "
    }
   },
   "oldHeight": 316.383334,
   "position": {
    "height": "40px",
    "left": "1141px",
    "right": "20px",
    "top": "197px",
    "width": "250px"
   },
   "types_to_exclude": [
    "module",
    "function",
    "builtin_function_or_method",
    "instance",
    "_Feature"
   ],
   "varInspector_section_display": "none",
   "window_display": false
  }
 },
 "nbformat": 4,
 "nbformat_minor": 4
}
